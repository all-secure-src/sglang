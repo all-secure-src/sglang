{
 "cells": [
  {
   "cell_type": "code",
   "execution_count": null,
   "metadata": {},
   "outputs": [],
   "source": [
    "from sglang import function, system, user, assistant, gen, set_default_backend, RuntimeEndpoint\n",
    "import time"
   ]
  },
  {
   "cell_type": "code",
   "execution_count": null,
   "metadata": {},
   "outputs": [],
   "source": [
    "@function\n",
    "def multi_turn_question(s, question_1):\n",
    "    s += system(\"You are a helpful assistant.\")\n",
    "    s += user(question_1)\n",
    "    s += assistant(gen(\"answer_1\", max_tokens=512))\n",
    "\n",
    "set_default_backend(RuntimeEndpoint(\"http://localhost:30000\"))\n",
    "\n",
    "# Start the timer\n",
    "start_time = time.time()\n",
    "\n",
    "state = multi_turn_question.run(\n",
    "    question_1=\"write a long essay on india\"\n",
    ")\n",
    "\n",
    "for m in state.messages():\n",
    "    print(m)\n",
    "    print(m[\"role\"], \":\", m[\"content\"])\n",
    "\n",
    "# Stop the timer\n",
    "end_time = time.time()\n",
    "# Calculate the duration\n",
    "duration_seconds = end_time - start_time\n",
    "print(\"Execution time in seconds:\", duration_seconds)\n",
    "print(state[\"answer_1\"])"
   ]
  }
 ],
 "metadata": {
  "language_info": {
   "name": "python"
  }
 },
 "nbformat": 4,
 "nbformat_minor": 2
}
